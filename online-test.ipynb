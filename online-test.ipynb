{
 "cells": [
  {
   "cell_type": "code",
   "execution_count": 4,
   "metadata": {},
   "outputs": [],
   "source": [
    "from google.cloud import aiplatform\n",
    "\n",
    "import tensorflow as tf\n",
    "import numpy as np\n",
    "from PIL import Image"
   ]
  },
  {
   "cell_type": "code",
   "execution_count": 25,
   "metadata": {},
   "outputs": [],
   "source": [
    "endpoint = aiplatform.Endpoint(\n",
    "    endpoint_name=\"projects/288463562539/locations/us-central1/endpoints/305220029824106496\")"
   ]
  },
  {
   "cell_type": "code",
   "execution_count": 28,
   "metadata": {},
   "outputs": [],
   "source": [
    "IMAGE_PATH = \"pepes.jpg\"\n",
    "im = Image.open(IMAGE_PATH)"
   ]
  },
  {
   "cell_type": "code",
   "execution_count": 29,
   "metadata": {},
   "outputs": [
    {
     "name": "stdout",
     "output_type": "stream",
     "text": [
      "Predicted Class :  5\n"
     ]
    }
   ],
   "source": [
    "x_test = np.asarray(im)\n",
    "\n",
    "# Perform the resizing operation\n",
    "resized_image_data = tf.image.resize(x_test, [180, 180])\n",
    "\n",
    "# Add batch dimension\n",
    "resized_image_data = np.expand_dims(resized_image_data, axis=0)\n",
    "\n",
    "# Convert the data type to int8\n",
    "resized_image_data = resized_image_data.astype(np.int16)\n",
    "\n",
    "# Convert the data to a list\n",
    "resized_image_data = resized_image_data.tolist()\n",
    "\n",
    "# Make the prediction request\n",
    "prediction = endpoint.predict(instances=resized_image_data).predictions\n",
    "\n",
    "# Convert the predicted array to a NumPy array\n",
    "predicted_array = np.array(prediction)\n",
    "\n",
    "# Find the index of the highest value\n",
    "highest_class_index = np.argmax(predicted_array)\n",
    "\n",
    "print(\"Predicted Class : \", highest_class_index)\n"
   ]
  },
  {
   "cell_type": "code",
   "execution_count": null,
   "metadata": {},
   "outputs": [],
   "source": []
  },
  {
   "cell_type": "code",
   "execution_count": null,
   "metadata": {},
   "outputs": [],
   "source": []
  }
 ],
 "metadata": {
  "kernelspec": {
   "display_name": "base",
   "language": "python",
   "name": "python3"
  },
  "language_info": {
   "codemirror_mode": {
    "name": "ipython",
    "version": 3
   },
   "file_extension": ".py",
   "mimetype": "text/x-python",
   "name": "python",
   "nbconvert_exporter": "python",
   "pygments_lexer": "ipython3",
   "version": "3.11.3"
  },
  "orig_nbformat": 4
 },
 "nbformat": 4,
 "nbformat_minor": 2
}
